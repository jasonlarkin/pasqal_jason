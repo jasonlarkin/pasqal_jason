{
 "cells": [
  {
   "cell_type": "markdown",
   "metadata": {},
   "source": [
    "# MaxCut, Random Graphs and Unit Disc Embedding\n",
    "\n",
    "The purpose of this notebook was to explore a few questions I thought of after looking at some of Pasqal's research papers and the tutorials/examples in Pulser.  \n",
    "\n",
    "Because of [previous work I did with QAOA-MaxCut](https://iopscience.iop.org/article/10.1088/2058-9565/ac6973/meta) I wanted to understand: \n",
    "\n",
    "* How MaxCut can be implemented on Chadoq2\n",
    "* How random graphs (e.g. k-regular, Erdős-Rényi, random weighted) could be embedded using the Pasqal Register for either MIS or MaxCut.  \n",
    "* How to translate QAOA circuits/schedules to Pasqal pulses.  \n",
    "\n",
    "I only got a chance to work through some of the first 2 bullets and would appreciate any feedback! In the notebook I ask several questions where relevant. \n",
    "\n",
    "[Pasqal's reference on combinatorial optimization](https://arxiv.org/abs/2207.13030) notebook [QAOA and QAA to solve a MIS problem](https://github.com/pasqal-io/Pulser/blob/develop/tutorials/applications/QAOA%20and%20QAA%20to%20solve%20a%20MIS%20problem.ipynb) were very helpful and I use content from them below."
   ]
  },
  {
   "cell_type": "markdown",
   "metadata": {},
   "source": [
    "## MIS and MaxCut Cost Functions\n",
    "\n",
    "The cost function for MIS is:\n",
    "\n",
    "$$\n",
    "C(z_1,\\dots,z_N) = -\\sum_{i=1}^N z_i + U \\sum_{\\langle i,j \\rangle}z_i z_j\n",
    "$$\n",
    "\n",
    "where $U \\gg 1$  and $\\langle i,j \\rangle$ represents adjacent nodes (i.e. there is a link between node $i$ and $j$).\n",
    "\n",
    "The cost function for MaxCut (in the un-weighted case) is:\n",
    "\n",
    "$$\n",
    "C(z_1,\\dots,z_N) = -\\sum_{i=1}^N N(i) z_i + U \\sum_{\\langle i,j \\rangle}z_i z_j\n",
    "$$\n",
    "\n",
    "where $N(i)$ is the number of neighbors of vertex $i$. "
   ]
  },
  {
   "cell_type": "markdown",
   "metadata": {},
   "source": [
    "## Pasqal Analog Hamiltonian\n",
    "\n",
    "From [QAOA and QAA to solve a MIS problem](https://github.com/pasqal-io/Pulser/blob/develop/tutorials/applications/QAOA%20and%20QAA%20to%20solve%20a%20MIS%20problem.ipynb):\n",
    "\n",
    "\"Interestingly, the operator $\\hat{C}$ associated with the cost function of the previous equation(s) can be natively realized on a neutral atom platform with some constraints on the graph edges. We map a  ground state and a Rydberg state of each atom to a two-level system, where $|1 \\rangle = |r \\rangle$ is a Rydberg state and $|0 \\rangle = |g \\rangle$ is a ground state. An atom in a Rydberg state has an excited electron with a very high principal quantum number and therefore exhibits a huge electric dipole moment. As such, when two atoms are excited to Rydberg states, they exhibit a strong van der Waals interaction. Placing $N$ atoms at positions $\\textbf{r}_j$ in a 2D plane, and coupling the ground state $|0\\rangle$ to the Rydberg state $|1\\rangle$ with a laser system enables the realization of the Hamiltonian :\"\n",
    "\n",
    "$$\n",
    "H= \\sum_{i=1}^N \\frac{\\hbar\\Omega}{2} \\sigma_i^x - \\sum_{i=1}^N \\frac{\\hbar \\delta}{2}  \\sigma_i^z+\\sum_{j<i}\\frac{C_6}{|\\textbf{r}_i-\\textbf{r}_j|^{6}} n_i n_j.\n",
    "$$\n",
    "\n",
    "\"Here, $\\Omega$ and $\\delta$ are respectively the Rabi frequency and detuning of the laser system and $\\hbar$ is the reduced Planck constant. The first two terms of the equation govern the transition between states $|0\\rangle$ and $|1 \\rangle$ induced by the laser, while the third term represents the repulsive Van der Waals interaction between atoms in the $|0\\rangle$ state. More precisely, $n_i = \\frac 12 (\\sigma_i\n",
    "^z + 1)$ counts the number of Rydberg excitations at position $i$. The interaction strength between two atoms decays as $|\\textbf{r}_i-\\textbf{r}_j|^{-6}$.\"\n",
    "\n",
    "One can use the change of variables to $ n_i $ to get a form like Eq. (10) of [Pasqal's Combinatorial Ref](https://arxiv.org/pdf/2207.13030.pdf)."
   ]
  },
  {
   "cell_type": "markdown",
   "metadata": {},
   "source": [
    "## Graph to Register\n",
    "\n",
    "After specifying the Hamiltonian, the next step is to embed the graph instance into a Pasqal  Register. \n",
    "\n",
    "From [Pasqal's Combinatorial Ref](https://arxiv.org/pdf/2207.13030.pdf):\n",
    "\n",
    "\"One of the features of neutral atom devices\n",
    "that makes it interesting for combinatorial graph\n",
    "problems is that the ground state of the Hamiltonian can encode exactly the solution to MIS on unit disk (UD) graphs. Given a graph, if\n",
    "an embedding in two dimensions can be found\n",
    "such that two nodes are connected if and only\n",
    "if their Euclidean distance is less than a certain\n",
    "threshold, then the graph is said to be a unit\n",
    "disk graph.\"\n",
    "\n",
    "So the task of embedding is to find a Unit Disc graph representation of the particular graph instance you want to solve. [This notebook has a description of the procedure:](https://github.com/pasqal-io/Pulser/blob/develop/tutorials/applications/QAOA%20and%20QAA%20to%20solve%20a%20MIS%20problem.ipynb):\n",
    "\n",
    "\"A link in the graph corresponds to two atoms that are within the Rydberg Blockade Radius (RBR) of each other. The radius of RBR is directly linked to the Rabi frequency  and is obtained using Chadoq2.rydberg_blockade_radius(). In this notebook,  is initially fixed to a frequency of 1 rad/µs.\"\n",
    "\n",
    "More details about the embedding from [Pasqal's Combinatorial Ref](https://arxiv.org/pdf/2207.13030.pdf):\n",
    "\n",
    "\"When a UD embedding of a graph is replicated\n",
    "on a neutral atom device, the two-body interaction term in (10) forbids the simultaneous excitation of two atoms that are closer than a certain\n",
    "distance, a phenomenon known as the Rydberg\n",
    "blockade [5]. This ensures that the evolution of\n",
    "the quantum system is restricted to a subspace of\n",
    "the complete Hilbert space where the excitations\n",
    "correspond to independent sets of the graph. For\n",
    "positive detunings, moreover, excitations are energetically favored, leading to the ground state of\n",
    "the system to be a maximum independent set of\n",
    "the graph.\"\n",
    "\n",
    "\"Furthermore, solving the\n",
    "MaxCut problem might potentially imply selecting two or more connected nodes, hence violating the blockade radius-based constraint. For instance, any cutting set of maximum size on complete graphs whose order is greater than three\n",
    "will have at least one pair of connected nodes. To\n",
    "overcome the aforementioned issues, other embedding strategies should be considered.\"\n",
    "\n",
    "\n",
    "Question: I would like to understand this more, are there reccomended references? I am looking at Section 3.1 from [Pasqal's Combinatorial Ref](https://arxiv.org/pdf/2207.13030.pdf) concerning embedding strategies. Overall I would like to know how to implement MaxCut on whatever graphs possible (including random). "
   ]
  },
  {
   "cell_type": "markdown",
   "metadata": {},
   "source": [
    "### Graph embedding\n",
    "\n",
    "Given the aspect of the Hamiltonian mentioned in the previous section, I continued on with the task of embedding but without a specific Hamiltonian in mind.  I wanted to get a sense for the following from [Pasqal's Combinatorial Ref](https://arxiv.org/pdf/2207.13030.pdf):\n",
    "\n",
    "\"However, finding a unit-disk realization for a\n",
    "given graph is proven to be NP-hard [51] and,\n",
    "as the reader may anticipate, not all graphs have\n",
    "such an embedding\"\n",
    "\n",
    "I did some experiments described below."
   ]
  },
  {
   "cell_type": "code",
   "execution_count": 1,
   "metadata": {},
   "outputs": [],
   "source": [
    "import numpy as np\n",
    "import igraph as ig\n",
    "from itertools import combinations\n",
    "import matplotlib.pyplot as plt"
   ]
  },
  {
   "cell_type": "markdown",
   "metadata": {},
   "source": [
    "I took the suggested algorithm Fruchterman Reingold from [Pasqal's Combinatorial Ref](https://arxiv.org/pdf/2207.13030.pdf) to produce a UD layout and compute all \"weights\" ($|\\textbf{r}_i-\\textbf{r}_j|$) between nodes (atoms):"
   ]
  },
  {
   "cell_type": "code",
   "execution_count": 15,
   "metadata": {},
   "outputs": [],
   "source": [
    "def get_layout_weights(G,layout_type='fr'):\n",
    "    \n",
    "    if layout_type=='fr':\n",
    "        layout = G.layout_fruchterman_reingold()\n",
    "    elif layout_type=='frw1':        \n",
    "        layout = G.layout_fruchterman_reingold(weights=[1]*len(G.get_edgelist()))\n",
    "    else:\n",
    "        layout = G.layout_fruchterman_reingold()\n",
    "        \n",
    "    weights = []\n",
    "    for pair in G.get_edgelist():\n",
    "        c0 = layout.coords[pair[0]]\n",
    "        c1 = layout.coords[pair[1]]\n",
    "        weights.append( np.sqrt( (c0[0] - c1[0])**2 + (c0[1] - c1[1])**2)) #abs(rij)\n",
    "        \n",
    "    return layout,weights"
   ]
  },
  {
   "cell_type": "markdown",
   "metadata": {},
   "source": [
    "The layout_fruchterman_reingold method has options, like the intial layout, weights for the edges, and others which deserve more attention with experiments (see discussion at end). \n",
    "\n",
    "For a 4-2 random regular graph a layout can be found which has equal weights ($|\\textbf{r}_i-\\textbf{r}_j|$):"
   ]
  },
  {
   "cell_type": "code",
   "execution_count": 16,
   "metadata": {},
   "outputs": [
    {
     "name": "stdout",
     "output_type": "stream",
     "text": [
      "1.144859664189262\n",
      "7.007092818840969e-12\n"
     ]
    },
    {
     "data": {
      "image/svg+xml": [
       "<?xml version=\"1.0\" encoding=\"UTF-8\"?>\n",
       "<svg xmlns=\"http://www.w3.org/2000/svg\" xmlns:xlink=\"http://www.w3.org/1999/xlink\" width=\"300pt\" height=\"300pt\" viewBox=\"0 0 300 300\" version=\"1.1\">\n",
       "<defs>\n",
       "<g>\n",
       "<symbol overflow=\"visible\" id=\"glyph0-0\">\n",
       "<path style=\"stroke:none;\" d=\"M 0.386719 0 L 0.386719 -8.609375 L 7.21875 -8.609375 L 7.21875 0 Z M 6.140625 -1.078125 L 6.140625 -7.53125 L 1.464844 -7.53125 L 1.464844 -1.078125 Z M 6.140625 -1.078125 \"/>\n",
       "</symbol>\n",
       "<symbol overflow=\"visible\" id=\"glyph0-1\">\n",
       "<path style=\"stroke:none;\" d=\"M 1.148438 -5.941406 L 1.148438 -6.75 C 1.910156 -6.824219 2.441406 -6.949219 2.742188 -7.121094 C 3.042969 -7.296875 3.265625 -7.707031 3.414062 -8.355469 L 4.25 -8.355469 L 4.25 0 L 3.125 0 L 3.125 -5.941406 Z M 1.148438 -5.941406 \"/>\n",
       "</symbol>\n",
       "<symbol overflow=\"visible\" id=\"glyph0-2\">\n",
       "<path style=\"stroke:none;\" d=\"M 1.023438 -1.277344 L 2.25 -1.277344 L 2.25 0 L 1.023438 0 Z M 1.023438 -1.277344 \"/>\n",
       "</symbol>\n",
       "<symbol overflow=\"visible\" id=\"glyph0-3\">\n",
       "<path style=\"stroke:none;\" d=\"M 3.96875 -2.96875 L 3.96875 -6.773438 L 1.277344 -2.96875 Z M 3.984375 0 L 3.984375 -2.050781 L 0.304688 -2.050781 L 0.304688 -3.082031 L 4.148438 -8.414062 L 5.039062 -8.414062 L 5.039062 -2.96875 L 6.273438 -2.96875 L 6.273438 -2.050781 L 5.039062 -2.050781 L 5.039062 0 Z M 3.984375 0 \"/>\n",
       "</symbol>\n",
       "<symbol overflow=\"visible\" id=\"glyph0-4\">\n",
       "<path style=\"stroke:none;\" d=\"M 3.265625 -4.875 C 3.730469 -4.875 4.09375 -5.003906 4.351562 -5.265625 C 4.613281 -5.523438 4.746094 -5.835938 4.746094 -6.195312 C 4.746094 -6.507812 4.621094 -6.792969 4.371094 -7.054688 C 4.121094 -7.316406 3.742188 -7.445312 3.226562 -7.445312 C 2.71875 -7.445312 2.351562 -7.316406 2.125 -7.054688 C 1.898438 -6.792969 1.789062 -6.484375 1.789062 -6.132812 C 1.789062 -5.738281 1.933594 -5.429688 2.226562 -5.210938 C 2.519531 -4.988281 2.867188 -4.875 3.265625 -4.875 Z M 3.328125 -0.71875 C 3.816406 -0.71875 4.222656 -0.851562 4.542969 -1.117188 C 4.867188 -1.378906 5.027344 -1.773438 5.027344 -2.296875 C 5.027344 -2.839844 4.859375 -3.25 4.53125 -3.53125 C 4.199219 -3.8125 3.773438 -3.953125 3.25 -3.953125 C 2.746094 -3.953125 2.335938 -3.8125 2.019531 -3.523438 C 1.699219 -3.238281 1.539062 -2.839844 1.539062 -2.332031 C 1.539062 -1.894531 1.6875 -1.515625 1.976562 -1.199219 C 2.269531 -0.878906 2.71875 -0.71875 3.328125 -0.71875 Z M 1.828125 -4.46875 C 1.535156 -4.59375 1.304688 -4.742188 1.140625 -4.910156 C 0.832031 -5.222656 0.679688 -5.628906 0.679688 -6.128906 C 0.679688 -6.753906 0.90625 -7.289062 1.359375 -7.742188 C 1.8125 -8.191406 2.453125 -8.414062 3.289062 -8.414062 C 4.09375 -8.414062 4.722656 -8.203125 5.179688 -7.777344 C 5.636719 -7.355469 5.867188 -6.859375 5.867188 -6.292969 C 5.867188 -5.769531 5.734375 -5.34375 5.46875 -5.023438 C 5.320312 -4.839844 5.085938 -4.65625 4.773438 -4.484375 C 5.121094 -4.324219 5.398438 -4.140625 5.59375 -3.929688 C 5.964844 -3.539062 6.152344 -3.03125 6.152344 -2.40625 C 6.152344 -1.667969 5.90625 -1.042969 5.40625 -0.53125 C 4.910156 -0.015625 4.210938 0.242188 3.304688 0.242188 C 2.488281 0.242188 1.796875 0.0195312 1.234375 -0.425781 C 0.667969 -0.867188 0.386719 -1.511719 0.386719 -2.355469 C 0.386719 -2.851562 0.507812 -3.28125 0.75 -3.640625 C 0.992188 -4.003906 1.351562 -4.28125 1.828125 -4.46875 Z M 1.828125 -4.46875 \"/>\n",
       "</symbol>\n",
       "<symbol overflow=\"visible\" id=\"glyph0-5\">\n",
       "<path style=\"stroke:none;\" d=\"M 3.507812 -8.425781 C 4.445312 -8.425781 5.101562 -8.183594 5.46875 -7.695312 C 5.839844 -7.210938 6.023438 -6.710938 6.023438 -6.195312 L 4.980469 -6.195312 C 4.917969 -6.527344 4.820312 -6.785156 4.679688 -6.972656 C 4.425781 -7.324219 4.042969 -7.5 3.527344 -7.5 C 2.9375 -7.5 2.46875 -7.226562 2.121094 -6.683594 C 1.773438 -6.136719 1.578125 -5.359375 1.539062 -4.34375 C 1.78125 -4.699219 2.085938 -4.960938 2.453125 -5.140625 C 2.789062 -5.296875 3.164062 -5.375 3.578125 -5.375 C 4.28125 -5.375 4.898438 -5.148438 5.421875 -4.699219 C 5.945312 -4.25 6.203125 -3.578125 6.203125 -2.6875 C 6.203125 -1.925781 5.957031 -1.253906 5.460938 -0.664062 C 4.964844 -0.078125 4.257812 0.21875 3.339844 0.21875 C 2.554688 0.21875 1.875 -0.0820312 1.304688 -0.675781 C 0.734375 -1.273438 0.453125 -2.273438 0.453125 -3.6875 C 0.453125 -4.730469 0.578125 -5.613281 0.832031 -6.339844 C 1.320312 -7.730469 2.210938 -8.425781 3.507812 -8.425781 Z M 3.433594 -0.71875 C 3.988281 -0.71875 4.402344 -0.90625 4.679688 -1.28125 C 4.953125 -1.652344 5.09375 -2.09375 5.09375 -2.601562 C 5.09375 -3.03125 4.96875 -3.441406 4.722656 -3.828125 C 4.476562 -4.21875 4.03125 -4.414062 3.382812 -4.414062 C 2.929688 -4.414062 2.53125 -4.261719 2.1875 -3.960938 C 1.847656 -3.660156 1.675781 -3.207031 1.675781 -2.601562 C 1.675781 -2.070312 1.832031 -1.625 2.140625 -1.261719 C 2.453125 -0.902344 2.882812 -0.71875 3.433594 -0.71875 Z M 3.433594 -0.71875 \"/>\n",
       "</symbol>\n",
       "<symbol overflow=\"visible\" id=\"glyph0-6\">\n",
       "<path style=\"stroke:none;\" d=\"M 0.375 0 C 0.414062 -0.722656 0.5625 -1.351562 0.824219 -1.886719 C 1.082031 -2.421875 1.589844 -2.90625 2.34375 -3.34375 L 3.46875 -3.996094 C 3.972656 -4.289062 4.328125 -4.539062 4.53125 -4.746094 C 4.851562 -5.070312 5.007812 -5.441406 5.007812 -5.859375 C 5.007812 -6.347656 4.863281 -6.734375 4.570312 -7.023438 C 4.277344 -7.308594 3.886719 -7.453125 3.398438 -7.453125 C 2.675781 -7.453125 2.175781 -7.179688 1.898438 -6.632812 C 1.75 -6.339844 1.667969 -5.933594 1.652344 -5.414062 L 0.578125 -5.414062 C 0.589844 -6.144531 0.726562 -6.742188 0.984375 -7.203125 C 1.441406 -8.015625 2.25 -8.421875 3.40625 -8.421875 C 4.367188 -8.421875 5.066406 -8.160156 5.511719 -7.640625 C 5.953125 -7.121094 6.175781 -6.542969 6.175781 -5.90625 C 6.175781 -5.234375 5.9375 -4.660156 5.46875 -4.183594 C 5.195312 -3.90625 4.703125 -3.570312 3.996094 -3.175781 L 3.195312 -2.730469 C 2.8125 -2.519531 2.507812 -2.320312 2.289062 -2.125 C 1.898438 -1.785156 1.65625 -1.410156 1.554688 -0.996094 L 6.132812 -0.996094 L 6.132812 0 Z M 0.375 0 \"/>\n",
       "</symbol>\n",
       "<symbol overflow=\"visible\" id=\"glyph0-7\">\n",
       "<path style=\"stroke:none;\" d=\"M 3.117188 0.226562 C 2.125 0.226562 1.40625 -0.0429688 0.957031 -0.589844 C 0.511719 -1.132812 0.289062 -1.796875 0.289062 -2.578125 L 1.390625 -2.578125 C 1.4375 -2.035156 1.539062 -1.640625 1.695312 -1.394531 C 1.96875 -0.953125 2.460938 -0.734375 3.175781 -0.734375 C 3.730469 -0.734375 4.175781 -0.882812 4.511719 -1.179688 C 4.847656 -1.476562 5.015625 -1.859375 5.015625 -2.328125 C 5.015625 -2.90625 4.839844 -3.308594 4.484375 -3.539062 C 4.132812 -3.769531 3.640625 -3.882812 3.011719 -3.882812 C 2.941406 -3.882812 2.871094 -3.882812 2.796875 -3.882812 C 2.726562 -3.878906 2.652344 -3.875 2.578125 -3.875 L 2.578125 -4.804688 C 2.6875 -4.792969 2.78125 -4.785156 2.851562 -4.78125 C 2.925781 -4.777344 3.007812 -4.773438 3.09375 -4.773438 C 3.488281 -4.773438 3.8125 -4.835938 4.066406 -4.960938 C 4.511719 -5.179688 4.734375 -5.570312 4.734375 -6.132812 C 4.734375 -6.550781 4.585938 -6.875 4.289062 -7.101562 C 3.992188 -7.328125 3.648438 -7.441406 3.25 -7.441406 C 2.546875 -7.441406 2.0625 -7.207031 1.792969 -6.738281 C 1.644531 -6.480469 1.5625 -6.113281 1.539062 -5.636719 L 0.5 -5.636719 C 0.5 -6.261719 0.625 -6.792969 0.875 -7.230469 C 1.304688 -8.011719 2.058594 -8.402344 3.140625 -8.402344 C 3.996094 -8.402344 4.65625 -8.210938 5.125 -7.832031 C 5.59375 -7.449219 5.828125 -6.898438 5.828125 -6.175781 C 5.828125 -5.660156 5.691406 -5.242188 5.414062 -4.921875 C 5.242188 -4.722656 5.019531 -4.566406 4.746094 -4.453125 C 5.1875 -4.332031 5.53125 -4.097656 5.78125 -3.753906 C 6.027344 -3.40625 6.152344 -2.984375 6.152344 -2.484375 C 6.152344 -1.683594 5.890625 -1.03125 5.359375 -0.527344 C 4.832031 -0.0234375 4.085938 0.226562 3.117188 0.226562 Z M 3.117188 0.226562 \"/>\n",
       "</symbol>\n",
       "<symbol overflow=\"visible\" id=\"glyph0-8\">\n",
       "<path style=\"stroke:none;\" d=\"M 6.273438 -8.25 L 6.273438 -7.328125 C 6.003906 -7.066406 5.648438 -6.613281 5.199219 -5.964844 C 4.753906 -5.316406 4.359375 -4.617188 4.015625 -3.867188 C 3.675781 -3.136719 3.414062 -2.46875 3.242188 -1.867188 C 3.128906 -1.480469 2.980469 -0.859375 2.800781 0 L 1.632812 0 C 1.898438 -1.601562 2.484375 -3.195312 3.390625 -4.78125 C 3.925781 -5.710938 4.492188 -6.515625 5.078125 -7.1875 L 0.4375 -7.1875 L 0.4375 -8.25 Z M 6.273438 -8.25 \"/>\n",
       "</symbol>\n",
       "<symbol overflow=\"visible\" id=\"glyph0-9\">\n",
       "<path style=\"stroke:none;\" d=\"M 3.246094 -8.390625 C 4.332031 -8.390625 5.117188 -7.945312 5.601562 -7.046875 C 5.976562 -6.355469 6.164062 -5.410156 6.164062 -4.207031 C 6.164062 -3.066406 5.992188 -2.125 5.65625 -1.375 C 5.164062 -0.304688 4.359375 0.226562 3.242188 0.226562 C 2.234375 0.226562 1.484375 -0.210938 0.992188 -1.085938 C 0.582031 -1.816406 0.375 -2.796875 0.375 -4.023438 C 0.375 -4.976562 0.5 -5.796875 0.742188 -6.480469 C 1.203125 -7.753906 2.039062 -8.390625 3.246094 -8.390625 Z M 3.234375 -0.734375 C 3.78125 -0.734375 4.21875 -0.976562 4.539062 -1.460938 C 4.863281 -1.945312 5.027344 -2.84375 5.027344 -4.164062 C 5.027344 -5.117188 4.910156 -5.902344 4.675781 -6.519531 C 4.441406 -7.132812 3.984375 -7.441406 3.3125 -7.441406 C 2.691406 -7.441406 2.234375 -7.148438 1.949219 -6.566406 C 1.660156 -5.980469 1.515625 -5.121094 1.515625 -3.984375 C 1.515625 -3.128906 1.609375 -2.441406 1.792969 -1.921875 C 2.074219 -1.128906 2.554688 -0.734375 3.234375 -0.734375 Z M 3.234375 -0.734375 \"/>\n",
       "</symbol>\n",
       "<symbol overflow=\"visible\" id=\"glyph0-10\">\n",
       "<path style=\"stroke:none;\" d=\"M 1.484375 -2.140625 C 1.554688 -1.539062 1.832031 -1.121094 2.320312 -0.890625 C 2.570312 -0.773438 2.859375 -0.714844 3.1875 -0.714844 C 3.8125 -0.714844 4.273438 -0.914062 4.578125 -1.3125 C 4.878906 -1.710938 5.027344 -2.152344 5.027344 -2.636719 C 5.027344 -3.222656 4.847656 -3.675781 4.492188 -3.996094 C 4.132812 -4.316406 3.703125 -4.476562 3.203125 -4.476562 C 2.839844 -4.476562 2.53125 -4.40625 2.269531 -4.265625 C 2.011719 -4.125 1.789062 -3.929688 1.605469 -3.679688 L 0.691406 -3.734375 L 1.328125 -8.25 L 5.6875 -8.25 L 5.6875 -7.230469 L 2.121094 -7.230469 L 1.765625 -4.898438 C 1.960938 -5.046875 2.144531 -5.15625 2.320312 -5.234375 C 2.632812 -5.363281 2.992188 -5.425781 3.40625 -5.425781 C 4.175781 -5.425781 4.828125 -5.179688 5.359375 -4.679688 C 5.894531 -4.183594 6.164062 -3.554688 6.164062 -2.796875 C 6.164062 -2.003906 5.917969 -1.304688 5.429688 -0.695312 C 4.9375 -0.0898438 4.15625 0.210938 3.082031 0.210938 C 2.398438 0.210938 1.792969 0.0195312 1.269531 -0.367188 C 0.742188 -0.75 0.449219 -1.34375 0.386719 -2.140625 Z M 1.484375 -2.140625 \"/>\n",
       "</symbol>\n",
       "<symbol overflow=\"visible\" id=\"glyph0-11\">\n",
       "<path style=\"stroke:none;\" d=\"M 1.59375 -2.027344 C 1.625 -1.445312 1.851562 -1.042969 2.265625 -0.820312 C 2.480469 -0.703125 2.726562 -0.644531 2.992188 -0.644531 C 3.496094 -0.644531 3.929688 -0.855469 4.28125 -1.273438 C 4.636719 -1.695312 4.890625 -2.546875 5.039062 -3.832031 C 4.804688 -3.460938 4.515625 -3.199219 4.167969 -3.050781 C 3.824219 -2.898438 3.453125 -2.824219 3.054688 -2.824219 C 2.246094 -2.824219 1.605469 -3.078125 1.132812 -3.578125 C 0.664062 -4.082031 0.429688 -4.734375 0.429688 -5.523438 C 0.429688 -6.285156 0.660156 -6.957031 1.125 -7.535156 C 1.589844 -8.113281 2.273438 -8.402344 3.179688 -8.402344 C 4.402344 -8.402344 5.25 -7.851562 5.710938 -6.75 C 5.96875 -6.144531 6.101562 -5.386719 6.101562 -4.476562 C 6.101562 -3.449219 5.945312 -2.539062 5.636719 -1.746094 C 5.125 -0.425781 4.257812 0.234375 3.035156 0.234375 C 2.214844 0.234375 1.59375 0.0195312 1.164062 -0.410156 C 0.738281 -0.839844 0.527344 -1.378906 0.527344 -2.027344 Z M 3.195312 -3.75 C 3.613281 -3.75 3.992188 -3.886719 4.339844 -4.164062 C 4.683594 -4.4375 4.859375 -4.921875 4.859375 -5.609375 C 4.859375 -6.226562 4.703125 -6.683594 4.390625 -6.988281 C 4.082031 -7.289062 3.6875 -7.441406 3.203125 -7.441406 C 2.6875 -7.441406 2.28125 -7.269531 1.976562 -6.921875 C 1.675781 -6.578125 1.523438 -6.117188 1.523438 -5.539062 C 1.523438 -4.992188 1.65625 -4.554688 1.921875 -4.234375 C 2.1875 -3.910156 2.609375 -3.75 3.195312 -3.75 Z M 3.195312 -3.75 \"/>\n",
       "</symbol>\n",
       "</g>\n",
       "</defs>\n",
       "<g id=\"surface32\">\n",
       "<rect x=\"0\" y=\"0\" width=\"300\" height=\"300\" style=\"fill:rgb(100%,100%,100%);fill-opacity:1;stroke:none;\"/>\n",
       "<path style=\"fill:none;stroke-width:1;stroke-linecap:butt;stroke-linejoin:miter;stroke:rgb(26.666667%,26.666667%,26.666667%);stroke-opacity:1;stroke-miterlimit:10;\" d=\"M 257.867188 20 L 280 257.84375 \"/>\n",
       "<path style=\"fill:none;stroke-width:1;stroke-linecap:butt;stroke-linejoin:miter;stroke:rgb(26.666667%,26.666667%,26.666667%);stroke-opacity:1;stroke-miterlimit:10;\" d=\"M 257.867188 20 L 20 42.15625 \"/>\n",
       "<path style=\"fill:none;stroke-width:1;stroke-linecap:butt;stroke-linejoin:miter;stroke:rgb(26.666667%,26.666667%,26.666667%);stroke-opacity:1;stroke-miterlimit:10;\" d=\"M 42.132812 280 L 280 257.84375 \"/>\n",
       "<path style=\"fill:none;stroke-width:1;stroke-linecap:butt;stroke-linejoin:miter;stroke:rgb(26.666667%,26.666667%,26.666667%);stroke-opacity:1;stroke-miterlimit:10;\" d=\"M 42.132812 280 L 20 42.15625 \"/>\n",
       "<path style=\"fill-rule:nonzero;fill:rgb(100%,0%,0%);fill-opacity:1;stroke-width:1;stroke-linecap:butt;stroke-linejoin:miter;stroke:rgb(0%,0%,0%);stroke-opacity:1;stroke-miterlimit:10;\" d=\"M 267.867188 20 C 267.867188 25.523438 263.386719 30 257.867188 30 C 252.34375 30 247.867188 25.523438 247.867188 20 C 247.867188 14.476562 252.34375 10 257.867188 10 C 263.386719 10 267.867188 14.476562 267.867188 20 \"/>\n",
       "<path style=\"fill-rule:nonzero;fill:rgb(100%,0%,0%);fill-opacity:1;stroke-width:1;stroke-linecap:butt;stroke-linejoin:miter;stroke:rgb(0%,0%,0%);stroke-opacity:1;stroke-miterlimit:10;\" d=\"M 52.132812 280 C 52.132812 285.523438 47.65625 290 42.132812 290 C 36.613281 290 32.132812 285.523438 32.132812 280 C 32.132812 274.476562 36.613281 270 42.132812 270 C 47.65625 270 52.132812 274.476562 52.132812 280 \"/>\n",
       "<path style=\"fill-rule:nonzero;fill:rgb(100%,0%,0%);fill-opacity:1;stroke-width:1;stroke-linecap:butt;stroke-linejoin:miter;stroke:rgb(0%,0%,0%);stroke-opacity:1;stroke-miterlimit:10;\" d=\"M 290 257.84375 C 290 263.367188 285.523438 267.84375 280 267.84375 C 274.476562 267.84375 270 263.367188 270 257.84375 C 270 252.324219 274.476562 247.84375 280 247.84375 C 285.523438 247.84375 290 252.324219 290 257.84375 \"/>\n",
       "<path style=\"fill-rule:nonzero;fill:rgb(100%,0%,0%);fill-opacity:1;stroke-width:1;stroke-linecap:butt;stroke-linejoin:miter;stroke:rgb(0%,0%,0%);stroke-opacity:1;stroke-miterlimit:10;\" d=\"M 30 42.15625 C 30 47.675781 25.523438 52.15625 20 52.15625 C 14.476562 52.15625 10 47.675781 10 42.15625 C 10 36.632812 14.476562 32.15625 20 32.15625 C 25.523438 32.15625 30 36.632812 30 42.15625 \"/>\n",
       "<g style=\"fill:rgb(0%,0%,0%);fill-opacity:1;\">\n",
       "  <use xlink:href=\"#glyph0-1\" x=\"267.785156\" y=\"146.589844\"/>\n",
       "  <use xlink:href=\"#glyph0-2\" x=\"274.458984\" y=\"146.589844\"/>\n",
       "  <use xlink:href=\"#glyph0-1\" x=\"277.792969\" y=\"146.589844\"/>\n",
       "  <use xlink:href=\"#glyph0-3\" x=\"284.466797\" y=\"146.589844\"/>\n",
       "  <use xlink:href=\"#glyph0-3\" x=\"291.140625\" y=\"146.589844\"/>\n",
       "  <use xlink:href=\"#glyph0-4\" x=\"297.814453\" y=\"146.589844\"/>\n",
       "  <use xlink:href=\"#glyph0-5\" x=\"304.488281\" y=\"146.589844\"/>\n",
       "  <use xlink:href=\"#glyph0-6\" x=\"311.162109\" y=\"146.589844\"/>\n",
       "  <use xlink:href=\"#glyph0-6\" x=\"317.835938\" y=\"146.589844\"/>\n",
       "  <use xlink:href=\"#glyph0-4\" x=\"324.509766\" y=\"146.589844\"/>\n",
       "  <use xlink:href=\"#glyph0-4\" x=\"331.183594\" y=\"146.589844\"/>\n",
       "  <use xlink:href=\"#glyph0-7\" x=\"337.857422\" y=\"146.589844\"/>\n",
       "  <use xlink:href=\"#glyph0-8\" x=\"344.53125\" y=\"146.589844\"/>\n",
       "  <use xlink:href=\"#glyph0-9\" x=\"351.205078\" y=\"146.589844\"/>\n",
       "  <use xlink:href=\"#glyph0-8\" x=\"357.878906\" y=\"146.589844\"/>\n",
       "  <use xlink:href=\"#glyph0-4\" x=\"364.552734\" y=\"146.589844\"/>\n",
       "  <use xlink:href=\"#glyph0-8\" x=\"371.226562\" y=\"146.589844\"/>\n",
       "</g>\n",
       "<g style=\"fill:rgb(0%,0%,0%);fill-opacity:1;\">\n",
       "  <use xlink:href=\"#glyph0-1\" x=\"137.785156\" y=\"43.078125\"/>\n",
       "  <use xlink:href=\"#glyph0-2\" x=\"144.458984\" y=\"43.078125\"/>\n",
       "  <use xlink:href=\"#glyph0-1\" x=\"147.792969\" y=\"43.078125\"/>\n",
       "  <use xlink:href=\"#glyph0-3\" x=\"154.466797\" y=\"43.078125\"/>\n",
       "  <use xlink:href=\"#glyph0-3\" x=\"161.140625\" y=\"43.078125\"/>\n",
       "  <use xlink:href=\"#glyph0-4\" x=\"167.814453\" y=\"43.078125\"/>\n",
       "  <use xlink:href=\"#glyph0-10\" x=\"174.488281\" y=\"43.078125\"/>\n",
       "  <use xlink:href=\"#glyph0-8\" x=\"181.162109\" y=\"43.078125\"/>\n",
       "  <use xlink:href=\"#glyph0-9\" x=\"187.835938\" y=\"43.078125\"/>\n",
       "  <use xlink:href=\"#glyph0-6\" x=\"194.509766\" y=\"43.078125\"/>\n",
       "  <use xlink:href=\"#glyph0-5\" x=\"201.183594\" y=\"43.078125\"/>\n",
       "  <use xlink:href=\"#glyph0-11\" x=\"207.857422\" y=\"43.078125\"/>\n",
       "  <use xlink:href=\"#glyph0-10\" x=\"214.53125\" y=\"43.078125\"/>\n",
       "  <use xlink:href=\"#glyph0-11\" x=\"221.205078\" y=\"43.078125\"/>\n",
       "  <use xlink:href=\"#glyph0-5\" x=\"227.878906\" y=\"43.078125\"/>\n",
       "  <use xlink:href=\"#glyph0-10\" x=\"234.552734\" y=\"43.078125\"/>\n",
       "  <use xlink:href=\"#glyph0-3\" x=\"241.226562\" y=\"43.078125\"/>\n",
       "</g>\n",
       "<g style=\"fill:rgb(0%,0%,0%);fill-opacity:1;\">\n",
       "  <use xlink:href=\"#glyph0-1\" x=\"44.789062\" y=\"268.050781\"/>\n",
       "  <use xlink:href=\"#glyph0-2\" x=\"51.462891\" y=\"268.050781\"/>\n",
       "  <use xlink:href=\"#glyph0-1\" x=\"54.796875\" y=\"268.050781\"/>\n",
       "  <use xlink:href=\"#glyph0-3\" x=\"61.470703\" y=\"268.050781\"/>\n",
       "  <use xlink:href=\"#glyph0-3\" x=\"68.144531\" y=\"268.050781\"/>\n",
       "  <use xlink:href=\"#glyph0-4\" x=\"74.818359\" y=\"268.050781\"/>\n",
       "  <use xlink:href=\"#glyph0-10\" x=\"81.492188\" y=\"268.050781\"/>\n",
       "  <use xlink:href=\"#glyph0-8\" x=\"88.166016\" y=\"268.050781\"/>\n",
       "  <use xlink:href=\"#glyph0-9\" x=\"94.839844\" y=\"268.050781\"/>\n",
       "  <use xlink:href=\"#glyph0-9\" x=\"101.513672\" y=\"268.050781\"/>\n",
       "  <use xlink:href=\"#glyph0-8\" x=\"108.1875\" y=\"268.050781\"/>\n",
       "  <use xlink:href=\"#glyph0-7\" x=\"114.861328\" y=\"268.050781\"/>\n",
       "  <use xlink:href=\"#glyph0-10\" x=\"121.535156\" y=\"268.050781\"/>\n",
       "  <use xlink:href=\"#glyph0-6\" x=\"128.208984\" y=\"268.050781\"/>\n",
       "  <use xlink:href=\"#glyph0-4\" x=\"134.882812\" y=\"268.050781\"/>\n",
       "  <use xlink:href=\"#glyph0-4\" x=\"141.556641\" y=\"268.050781\"/>\n",
       "  <use xlink:href=\"#glyph0-6\" x=\"148.230469\" y=\"268.050781\"/>\n",
       "  <use xlink:href=\"#glyph0-10\" x=\"154.904297\" y=\"268.050781\"/>\n",
       "</g>\n",
       "<g style=\"fill:rgb(0%,0%,0%);fill-opacity:1;\">\n",
       "  <use xlink:href=\"#glyph0-1\" x=\"-85.222656\" y=\"168.746094\"/>\n",
       "  <use xlink:href=\"#glyph0-2\" x=\"-78.548828\" y=\"168.746094\"/>\n",
       "  <use xlink:href=\"#glyph0-1\" x=\"-75.214844\" y=\"168.746094\"/>\n",
       "  <use xlink:href=\"#glyph0-3\" x=\"-68.541016\" y=\"168.746094\"/>\n",
       "  <use xlink:href=\"#glyph0-3\" x=\"-61.867188\" y=\"168.746094\"/>\n",
       "  <use xlink:href=\"#glyph0-4\" x=\"-55.193359\" y=\"168.746094\"/>\n",
       "  <use xlink:href=\"#glyph0-5\" x=\"-48.519531\" y=\"168.746094\"/>\n",
       "  <use xlink:href=\"#glyph0-6\" x=\"-41.845703\" y=\"168.746094\"/>\n",
       "  <use xlink:href=\"#glyph0-7\" x=\"-35.171875\" y=\"168.746094\"/>\n",
       "  <use xlink:href=\"#glyph0-7\" x=\"-28.498047\" y=\"168.746094\"/>\n",
       "  <use xlink:href=\"#glyph0-3\" x=\"-21.824219\" y=\"168.746094\"/>\n",
       "  <use xlink:href=\"#glyph0-9\" x=\"-15.150391\" y=\"168.746094\"/>\n",
       "  <use xlink:href=\"#glyph0-8\" x=\"-8.476562\" y=\"168.746094\"/>\n",
       "  <use xlink:href=\"#glyph0-7\" x=\"-1.802734\" y=\"168.746094\"/>\n",
       "  <use xlink:href=\"#glyph0-8\" x=\"4.871094\" y=\"168.746094\"/>\n",
       "  <use xlink:href=\"#glyph0-6\" x=\"11.544922\" y=\"168.746094\"/>\n",
       "  <use xlink:href=\"#glyph0-10\" x=\"18.21875\" y=\"168.746094\"/>\n",
       "  <use xlink:href=\"#glyph0-6\" x=\"24.892578\" y=\"168.746094\"/>\n",
       "</g>\n",
       "</g>\n",
       "</svg>\n"
      ],
      "text/plain": [
       "<igraph.drawing.cairo.plot.CairoPlot at 0x7f935ae93220>"
      ]
     },
     "execution_count": 16,
     "metadata": {
      "image/svg+xml": {
       "isolated": true
      }
     },
     "output_type": "execute_result"
    }
   ],
   "source": [
    "nnodes = 4 \n",
    "k = 2\n",
    "G = ig.Graph.K_Regular(nnodes,k)\n",
    "layout,weights = get_layout_weights(G)\n",
    "mean = sum(weights)/len(weights) \n",
    "var = sum([((x-mean)**2) for x in weights]) / len(weights)\n",
    "print(mean)\n",
    "print(var)\n",
    "ig.plot(G, layout=layout,edge_label=weights,bbox=(0, 0, 300, 300))"
   ]
  },
  {
   "cell_type": "markdown",
   "metadata": {},
   "source": [
    "The output FR layout is taken and a scale factor is chosen so that radii with edges overlap with each other below:"
   ]
  },
  {
   "cell_type": "code",
   "execution_count": 17,
   "metadata": {},
   "outputs": [
    {
     "data": {
      "image/png": "[encoded data removed]",
      "text/plain": [
       "<Figure size 238.566x238.566 with 1 Axes>"
      ]
     },
     "metadata": {
      "needs_background": "light"
     },
     "output_type": "display_data"
    },
    {
     "name": "stdout",
     "output_type": "stream",
     "text": [
      "7\n"
     ]
    },
    {
     "data": {
      "image/png": "[encoded data removed]",
      "text/plain": [
       "<Figure size 257.922x257.947 with 1 Axes>"
      ]
     },
     "metadata": {
      "needs_background": "light"
     },
     "output_type": "display_data"
    },
    {
     "name": "stdout",
     "output_type": "stream",
     "text": [
      "11.5\n"
     ]
    },
    {
     "data": {
      "image/png": "[encoded data removed]",
      "text/plain": [
       "<Figure size 238.566x238.566 with 1 Axes>"
      ]
     },
     "metadata": {
      "needs_background": "light"
     },
     "output_type": "display_data"
    },
    {
     "name": "stdout",
     "output_type": "stream",
     "text": [
      "10.0\n"
     ]
    }
   ],
   "source": [
    "from pulser import Pulse, Sequence, Register\n",
    "from pulser.devices import Chadoq2\n",
    "\n",
    "Chadoq2.rydberg_blockade_radius(1.0)\n",
    "\n",
    "#scale coords to adjust the Van der Waals interaction\n",
    "def scale_coords(layout,scale=10):\n",
    "    scaled_coords = []      \n",
    "    for elem in layout.coords:\n",
    "        x = elem[0]\n",
    "        y = elem[1]\n",
    "        scaled_coords.append([scale*x,scale*y])\n",
    "    return scaled_coords\n",
    "\n",
    "scales=[7,11.5,10.0]\n",
    "for scale in scales:\n",
    "    scaled_coords = scale_coords(layout,scale)\n",
    "    qubits = dict(enumerate(scaled_coords))\n",
    "    reg = Register(qubits)\n",
    "    reg.draw(\n",
    "        blockade_radius=Chadoq2.rydberg_blockade_radius(1.0),\n",
    "        draw_graph=True,\n",
    "        draw_half_radius=True,\n",
    "    )\n",
    "    print(scale)"
   ]
  },
  {
   "cell_type": "markdown",
   "metadata": {},
   "source": [
    "A scale of 10 seems to create a reasonable layout $ r_j $ with overlaps.  \n",
    "\n",
    "From the discussion in the Hamiltonian section, the interaction term:\n",
    "\n",
    "\n",
    "$$\n",
    "\\sum_{j<i}\\frac{C_6}{|\\textbf{r}_i-\\textbf{r}_j|^{6}} n_i n_j.\n",
    "$$\n",
    "\n",
    "For the current graph instance and $ i = 0 $ has 2 potential interactions with $ i = 1,3 $ but the Rydberg blockade will restrict to just one.  \n",
    "\n",
    "Which one will be selected? I'd like to understand more about this feature.  Perhaps there is a sequence of embeddings with blockade restrictions that could account for the degree of interactions?\n",
    "\n",
    "As we increase nnodes,k we can produce graphs for which the FR algorithm does not produce equal weights for:"
   ]
  },
  {
   "cell_type": "code",
   "execution_count": 18,
   "metadata": {},
   "outputs": [
    {
     "name": "stdout",
     "output_type": "stream",
     "text": [
      "1.1376737199484666\n",
      "0.05558421213050667\n"
     ]
    },
    {
     "data": {
      "image/svg+xml": [
       "<?xml version=\"1.0\" encoding=\"UTF-8\"?>\n",
       "<svg xmlns=\"http://www.w3.org/2000/svg\" xmlns:xlink=\"http://www.w3.org/1999/xlink\" width=\"300pt\" height=\"300pt\" viewBox=\"0 0 300 300\" version=\"1.1\">\n",
       "<defs>\n",
       "<g>\n",
       "<symbol overflow=\"visible\" id=\"glyph0-0\">\n",
       "<path style=\"stroke:none;\" d=\"M 0.386719 0 L 0.386719 -8.609375 L 7.21875 -8.609375 L 7.21875 0 Z M 6.140625 -1.078125 L 6.140625 -7.53125 L 1.464844 -7.53125 L 1.464844 -1.078125 Z M 6.140625 -1.078125 \"/>\n",
       "</symbol>\n",
       "<symbol overflow=\"visible\" id=\"glyph0-1\">\n",
       "<path style=\"stroke:none;\" d=\"M 3.246094 -8.390625 C 4.332031 -8.390625 5.117188 -7.945312 5.601562 -7.046875 C 5.976562 -6.355469 6.164062 -5.410156 6.164062 -4.207031 C 6.164062 -3.066406 5.992188 -2.125 5.65625 -1.375 C 5.164062 -0.304688 4.359375 0.226562 3.242188 0.226562 C 2.234375 0.226562 1.484375 -0.210938 0.992188 -1.085938 C 0.582031 -1.816406 0.375 -2.796875 0.375 -4.023438 C 0.375 -4.976562 0.5 -5.796875 0.742188 -6.480469 C 1.203125 -7.753906 2.039062 -8.390625 3.246094 -8.390625 Z M 3.234375 -0.734375 C 3.78125 -0.734375 4.21875 -0.976562 4.539062 -1.460938 C 4.863281 -1.945312 5.027344 -2.84375 5.027344 -4.164062 C 5.027344 -5.117188 4.910156 -5.902344 4.675781 -6.519531 C 4.441406 -7.132812 3.984375 -7.441406 3.3125 -7.441406 C 2.691406 -7.441406 2.234375 -7.148438 1.949219 -6.566406 C 1.660156 -5.980469 1.515625 -5.121094 1.515625 -3.984375 C 1.515625 -3.128906 1.609375 -2.441406 1.792969 -1.921875 C 2.074219 -1.128906 2.554688 -0.734375 3.234375 -0.734375 Z M 3.234375 -0.734375 \"/>\n",
       "</symbol>\n",
       "<symbol overflow=\"visible\" id=\"glyph0-2\">\n",
       "<path style=\"stroke:none;\" d=\"M 1.023438 -1.277344 L 2.25 -1.277344 L 2.25 0 L 1.023438 0 Z M 1.023438 -1.277344 \"/>\n",
       "</symbol>\n",
       "<symbol overflow=\"visible\" id=\"glyph0-3\">\n",
       "<path style=\"stroke:none;\" d=\"M 1.59375 -2.027344 C 1.625 -1.445312 1.851562 -1.042969 2.265625 -0.820312 C 2.480469 -0.703125 2.726562 -0.644531 2.992188 -0.644531 C 3.496094 -0.644531 3.929688 -0.855469 4.28125 -1.273438 C 4.636719 -1.695312 4.890625 -2.546875 5.039062 -3.832031 C 4.804688 -3.460938 4.515625 -3.199219 4.167969 -3.050781 C 3.824219 -2.898438 3.453125 -2.824219 3.054688 -2.824219 C 2.246094 -2.824219 1.605469 -3.078125 1.132812 -3.578125 C 0.664062 -4.082031 0.429688 -4.734375 0.429688 -5.523438 C 0.429688 -6.285156 0.660156 -6.957031 1.125 -7.535156 C 1.589844 -8.113281 2.273438 -8.402344 3.179688 -8.402344 C 4.402344 -8.402344 5.25 -7.851562 5.710938 -6.75 C 5.96875 -6.144531 6.101562 -5.386719 6.101562 -4.476562 C 6.101562 -3.449219 5.945312 -2.539062 5.636719 -1.746094 C 5.125 -0.425781 4.257812 0.234375 3.035156 0.234375 C 2.214844 0.234375 1.59375 0.0195312 1.164062 -0.410156 C 0.738281 -0.839844 0.527344 -1.378906 0.527344 -2.027344 Z M 3.195312 -3.75 C 3.613281 -3.75 3.992188 -3.886719 4.339844 -4.164062 C 4.683594 -4.4375 4.859375 -4.921875 4.859375 -5.609375 C 4.859375 -6.226562 4.703125 -6.683594 4.390625 -6.988281 C 4.082031 -7.289062 3.6875 -7.441406 3.203125 -7.441406 C 2.6875 -7.441406 2.28125 -7.269531 1.976562 -6.921875 C 1.675781 -6.578125 1.523438 -6.117188 1.523438 -5.539062 C 1.523438 -4.992188 1.65625 -4.554688 1.921875 -4.234375 C 2.1875 -3.910156 2.609375 -3.75 3.195312 -3.75 Z M 3.195312 -3.75 \"/>\n",
       "</symbol>\n",
       "<symbol overflow=\"visible\" id=\"glyph0-4\">\n",
       "<path style=\"stroke:none;\" d=\"M 3.265625 -4.875 C 3.730469 -4.875 4.09375 -5.003906 4.351562 -5.265625 C 4.613281 -5.523438 4.746094 -5.835938 4.746094 -6.195312 C 4.746094 -6.507812 4.621094 -6.792969 4.371094 -7.054688 C 4.121094 -7.316406 3.742188 -7.445312 3.226562 -7.445312 C 2.71875 -7.445312 2.351562 -7.316406 2.125 -7.054688 C 1.898438 -6.792969 1.789062 -6.484375 1.789062 -6.132812 C 1.789062 -5.738281 1.933594 -5.429688 2.226562 -5.210938 C 2.519531 -4.988281 2.867188 -4.875 3.265625 -4.875 Z M 3.328125 -0.71875 C 3.816406 -0.71875 4.222656 -0.851562 4.542969 -1.117188 C 4.867188 -1.378906 5.027344 -1.773438 5.027344 -2.296875 C 5.027344 -2.839844 4.859375 -3.25 4.53125 -3.53125 C 4.199219 -3.8125 3.773438 -3.953125 3.25 -3.953125 C 2.746094 -3.953125 2.335938 -3.8125 2.019531 -3.523438 C 1.699219 -3.238281 1.539062 -2.839844 1.539062 -2.332031 C 1.539062 -1.894531 1.6875 -1.515625 1.976562 -1.199219 C 2.269531 -0.878906 2.71875 -0.71875 3.328125 -0.71875 Z M 1.828125 -4.46875 C 1.535156 -4.59375 1.304688 -4.742188 1.140625 -4.910156 C 0.832031 -5.222656 0.679688 -5.628906 0.679688 -6.128906 C 0.679688 -6.753906 0.90625 -7.289062 1.359375 -7.742188 C 1.8125 -8.191406 2.453125 -8.414062 3.289062 -8.414062 C 4.09375 -8.414062 4.722656 -8.203125 5.179688 -7.777344 C 5.636719 -7.355469 5.867188 -6.859375 5.867188 -6.292969 C 5.867188 -5.769531 5.734375 -5.34375 5.46875 -5.023438 C 5.320312 -4.839844 5.085938 -4.65625 4.773438 -4.484375 C 5.121094 -4.324219 5.398438 -4.140625 5.59375 -3.929688 C 5.964844 -3.539062 6.152344 -3.03125 6.152344 -2.40625 C 6.152344 -1.667969 5.90625 -1.042969 5.40625 -0.53125 C 4.910156 -0.015625 4.210938 0.242188 3.304688 0.242188 C 2.488281 0.242188 1.796875 0.0195312 1.234375 -0.425781 C 0.667969 -0.867188 0.386719 -1.511719 0.386719 -2.355469 C 0.386719 -2.851562 0.507812 -3.28125 0.75 -3.640625 C 0.992188 -4.003906 1.351562 -4.28125 1.828125 -4.46875 Z M 1.828125 -4.46875 \"/>\n",
       "</symbol>\n",
       "<symbol overflow=\"visible\" id=\"glyph0-5\">\n",
       "<path style=\"stroke:none;\" d=\"M 3.96875 -2.96875 L 3.96875 -6.773438 L 1.277344 -2.96875 Z M 3.984375 0 L 3.984375 -2.050781 L 0.304688 -2.050781 L 0.304688 -3.082031 L 4.148438 -8.414062 L 5.039062 -8.414062 L 5.039062 -2.96875 L 6.273438 -2.96875 L 6.273438 -2.050781 L 5.039062 -2.050781 L 5.039062 0 Z M 3.984375 0 \"/>\n",
       "</symbol>\n",
       "<symbol overflow=\"visible\" id=\"glyph0-6\">\n",
       "<path style=\"stroke:none;\" d=\"M 3.507812 -8.425781 C 4.445312 -8.425781 5.101562 -8.183594 5.46875 -7.695312 C 5.839844 -7.210938 6.023438 -6.710938 6.023438 -6.195312 L 4.980469 -6.195312 C 4.917969 -6.527344 4.820312 -6.785156 4.679688 -6.972656 C 4.425781 -7.324219 4.042969 -7.5 3.527344 -7.5 C 2.9375 -7.5 2.46875 -7.226562 2.121094 -6.683594 C 1.773438 -6.136719 1.578125 -5.359375 1.539062 -4.34375 C 1.78125 -4.699219 2.085938 -4.960938 2.453125 -5.140625 C 2.789062 -5.296875 3.164062 -5.375 3.578125 -5.375 C 4.28125 -5.375 4.898438 -5.148438 5.421875 -4.699219 C 5.945312 -4.25 6.203125 -3.578125 6.203125 -2.6875 C 6.203125 -1.925781 5.957031 -1.253906 5.460938 -0.664062 C 4.964844 -0.078125 4.257812 0.21875 3.339844 0.21875 C 2.554688 0.21875 1.875 -0.0820312 1.304688 -0.675781 C 0.734375 -1.273438 0.453125 -2.273438 0.453125 -3.6875 C 0.453125 -4.730469 0.578125 -5.613281 0.832031 -6.339844 C 1.320312 -7.730469 2.210938 -8.425781 3.507812 -8.425781 Z M 3.433594 -0.71875 C 3.988281 -0.71875 4.402344 -0.90625 4.679688 -1.28125 C 4.953125 -1.652344 5.09375 -2.09375 5.09375 -2.601562 C 5.09375 -3.03125 4.96875 -3.441406 4.722656 -3.828125 C 4.476562 -4.21875 4.03125 -4.414062 3.382812 -4.414062 C 2.929688 -4.414062 2.53125 -4.261719 2.1875 -3.960938 C 1.847656 -3.660156 1.675781 -3.207031 1.675781 -2.601562 C 1.675781 -2.070312 1.832031 -1.625 2.140625 -1.261719 C 2.453125 -0.902344 2.882812 -0.71875 3.433594 -0.71875 Z M 3.433594 -0.71875 \"/>\n",
       "</symbol>\n",
       "<symbol overflow=\"visible\" id=\"glyph0-7\">\n",
       "<path style=\"stroke:none;\" d=\"M 6.273438 -8.25 L 6.273438 -7.328125 C 6.003906 -7.066406 5.648438 -6.613281 5.199219 -5.964844 C 4.753906 -5.316406 4.359375 -4.617188 4.015625 -3.867188 C 3.675781 -3.136719 3.414062 -2.46875 3.242188 -1.867188 C 3.128906 -1.480469 2.980469 -0.859375 2.800781 0 L 1.632812 0 C 1.898438 -1.601562 2.484375 -3.195312 3.390625 -4.78125 C 3.925781 -5.710938 4.492188 -6.515625 5.078125 -7.1875 L 0.4375 -7.1875 L 0.4375 -8.25 Z M 6.273438 -8.25 \"/>\n",
       "</symbol>\n",
       "<symbol overflow=\"visible\" id=\"glyph0-8\">\n",
       "<path style=\"stroke:none;\" d=\"M 1.484375 -2.140625 C 1.554688 -1.539062 1.832031 -1.121094 2.320312 -0.890625 C 2.570312 -0.773438 2.859375 -0.714844 3.1875 -0.714844 C 3.8125 -0.714844 4.273438 -0.914062 4.578125 -1.3125 C 4.878906 -1.710938 5.027344 -2.152344 5.027344 -2.636719 C 5.027344 -3.222656 4.847656 -3.675781 4.492188 -3.996094 C 4.132812 -4.316406 3.703125 -4.476562 3.203125 -4.476562 C 2.839844 -4.476562 2.53125 -4.40625 2.269531 -4.265625 C 2.011719 -4.125 1.789062 -3.929688 1.605469 -3.679688 L 0.691406 -3.734375 L 1.328125 -8.25 L 5.6875 -8.25 L 5.6875 -7.230469 L 2.121094 -7.230469 L 1.765625 -4.898438 C 1.960938 -5.046875 2.144531 -5.15625 2.320312 -5.234375 C 2.632812 -5.363281 2.992188 -5.425781 3.40625 -5.425781 C 4.175781 -5.425781 4.828125 -5.179688 5.359375 -4.679688 C 5.894531 -4.183594 6.164062 -3.554688 6.164062 -2.796875 C 6.164062 -2.003906 5.917969 -1.304688 5.429688 -0.695312 C 4.9375 -0.0898438 4.15625 0.210938 3.082031 0.210938 C 2.398438 0.210938 1.792969 0.0195312 1.269531 -0.367188 C 0.742188 -0.75 0.449219 -1.34375 0.386719 -2.140625 Z M 1.484375 -2.140625 \"/>\n",
       "</symbol>\n",
       "<symbol overflow=\"visible\" id=\"glyph0-9\">\n",
       "<path style=\"stroke:none;\" d=\"M 1.148438 -5.941406 L 1.148438 -6.75 C 1.910156 -6.824219 2.441406 -6.949219 2.742188 -7.121094 C 3.042969 -7.296875 3.265625 -7.707031 3.414062 -8.355469 L 4.25 -8.355469 L 4.25 0 L 3.125 0 L 3.125 -5.941406 Z M 1.148438 -5.941406 \"/>\n",
       "</symbol>\n",
       "<symbol overflow=\"visible\" id=\"glyph0-10\">\n",
       "<path style=\"stroke:none;\" d=\"M 0.375 0 C 0.414062 -0.722656 0.5625 -1.351562 0.824219 -1.886719 C 1.082031 -2.421875 1.589844 -2.90625 2.34375 -3.34375 L 3.46875 -3.996094 C 3.972656 -4.289062 4.328125 -4.539062 4.53125 -4.746094 C 4.851562 -5.070312 5.007812 -5.441406 5.007812 -5.859375 C 5.007812 -6.347656 4.863281 -6.734375 4.570312 -7.023438 C 4.277344 -7.308594 3.886719 -7.453125 3.398438 -7.453125 C 2.675781 -7.453125 2.175781 -7.179688 1.898438 -6.632812 C 1.75 -6.339844 1.667969 -5.933594 1.652344 -5.414062 L 0.578125 -5.414062 C 0.589844 -6.144531 0.726562 -6.742188 0.984375 -7.203125 C 1.441406 -8.015625 2.25 -8.421875 3.40625 -8.421875 C 4.367188 -8.421875 5.066406 -8.160156 5.511719 -7.640625 C 5.953125 -7.121094 6.175781 -6.542969 6.175781 -5.90625 C 6.175781 -5.234375 5.9375 -4.660156 5.46875 -4.183594 C 5.195312 -3.90625 4.703125 -3.570312 3.996094 -3.175781 L 3.195312 -2.730469 C 2.8125 -2.519531 2.507812 -2.320312 2.289062 -2.125 C 1.898438 -1.785156 1.65625 -1.410156 1.554688 -0.996094 L 6.132812 -0.996094 L 6.132812 0 Z M 0.375 0 \"/>\n",
       "</symbol>\n",
       "<symbol overflow=\"visible\" id=\"glyph0-11\">\n",
       "<path style=\"stroke:none;\" d=\"M 3.117188 0.226562 C 2.125 0.226562 1.40625 -0.0429688 0.957031 -0.589844 C 0.511719 -1.132812 0.289062 -1.796875 0.289062 -2.578125 L 1.390625 -2.578125 C 1.4375 -2.035156 1.539062 -1.640625 1.695312 -1.394531 C 1.96875 -0.953125 2.460938 -0.734375 3.175781 -0.734375 C 3.730469 -0.734375 4.175781 -0.882812 4.511719 -1.179688 C 4.847656 -1.476562 5.015625 -1.859375 5.015625 -2.328125 C 5.015625 -2.90625 4.839844 -3.308594 4.484375 -3.539062 C 4.132812 -3.769531 3.640625 -3.882812 3.011719 -3.882812 C 2.941406 -3.882812 2.871094 -3.882812 2.796875 -3.882812 C 2.726562 -3.878906 2.652344 -3.875 2.578125 -3.875 L 2.578125 -4.804688 C 2.6875 -4.792969 2.78125 -4.785156 2.851562 -4.78125 C 2.925781 -4.777344 3.007812 -4.773438 3.09375 -4.773438 C 3.488281 -4.773438 3.8125 -4.835938 4.066406 -4.960938 C 4.511719 -5.179688 4.734375 -5.570312 4.734375 -6.132812 C 4.734375 -6.550781 4.585938 -6.875 4.289062 -7.101562 C 3.992188 -7.328125 3.648438 -7.441406 3.25 -7.441406 C 2.546875 -7.441406 2.0625 -7.207031 1.792969 -6.738281 C 1.644531 -6.480469 1.5625 -6.113281 1.539062 -5.636719 L 0.5 -5.636719 C 0.5 -6.261719 0.625 -6.792969 0.875 -7.230469 C 1.304688 -8.011719 2.058594 -8.402344 3.140625 -8.402344 C 3.996094 -8.402344 4.65625 -8.210938 5.125 -7.832031 C 5.59375 -7.449219 5.828125 -6.898438 5.828125 -6.175781 C 5.828125 -5.660156 5.691406 -5.242188 5.414062 -4.921875 C 5.242188 -4.722656 5.019531 -4.566406 4.746094 -4.453125 C 5.1875 -4.332031 5.53125 -4.097656 5.78125 -3.753906 C 6.027344 -3.40625 6.152344 -2.984375 6.152344 -2.484375 C 6.152344 -1.683594 5.890625 -1.03125 5.359375 -0.527344 C 4.832031 -0.0234375 4.085938 0.226562 3.117188 0.226562 Z M 3.117188 0.226562 \"/>\n",
       "</symbol>\n",
       "</g>\n",
       "</defs>\n",
       "<g id=\"surface38\">\n",
       "<rect x=\"0\" y=\"0\" width=\"300\" height=\"300\" style=\"fill:rgb(100%,100%,100%);fill-opacity:1;stroke:none;\"/>\n",
       "<path style=\"fill:none;stroke-width:1;stroke-linecap:butt;stroke-linejoin:miter;stroke:rgb(26.666667%,26.666667%,26.666667%);stroke-opacity:1;stroke-miterlimit:10;\" d=\"M 51.15625 245.070312 L 160.140625 144.660156 \"/>\n",
       "<path style=\"fill:none;stroke-width:1;stroke-linecap:butt;stroke-linejoin:miter;stroke:rgb(26.666667%,26.666667%,26.666667%);stroke-opacity:1;stroke-miterlimit:10;\" d=\"M 51.15625 245.070312 L 109.964844 20 \"/>\n",
       "<path style=\"fill:none;stroke-width:1;stroke-linecap:butt;stroke-linejoin:miter;stroke:rgb(26.666667%,26.666667%,26.666667%);stroke-opacity:1;stroke-miterlimit:10;\" d=\"M 51.15625 245.070312 L 177.042969 280 \"/>\n",
       "<path style=\"fill:none;stroke-width:1;stroke-linecap:butt;stroke-linejoin:miter;stroke:rgb(26.666667%,26.666667%,26.666667%);stroke-opacity:1;stroke-miterlimit:10;\" d=\"M 160.140625 144.660156 L 280 106.152344 \"/>\n",
       "<path style=\"fill:none;stroke-width:1;stroke-linecap:butt;stroke-linejoin:miter;stroke:rgb(26.666667%,26.666667%,26.666667%);stroke-opacity:1;stroke-miterlimit:10;\" d=\"M 160.140625 144.660156 L 20 124.269531 \"/>\n",
       "<path style=\"fill:none;stroke-width:1;stroke-linecap:butt;stroke-linejoin:miter;stroke:rgb(26.666667%,26.666667%,26.666667%);stroke-opacity:1;stroke-miterlimit:10;\" d=\"M 109.964844 20 L 280 106.152344 \"/>\n",
       "<path style=\"fill:none;stroke-width:1;stroke-linecap:butt;stroke-linejoin:miter;stroke:rgb(26.666667%,26.666667%,26.666667%);stroke-opacity:1;stroke-miterlimit:10;\" d=\"M 109.964844 20 L 20 124.269531 \"/>\n",
       "<path style=\"fill:none;stroke-width:1;stroke-linecap:butt;stroke-linejoin:miter;stroke:rgb(26.666667%,26.666667%,26.666667%);stroke-opacity:1;stroke-miterlimit:10;\" d=\"M 280 106.152344 L 177.042969 280 \"/>\n",
       "<path style=\"fill:none;stroke-width:1;stroke-linecap:butt;stroke-linejoin:miter;stroke:rgb(26.666667%,26.666667%,26.666667%);stroke-opacity:1;stroke-miterlimit:10;\" d=\"M 20 124.269531 L 177.042969 280 \"/>\n",
       "<path style=\"fill-rule:nonzero;fill:rgb(100%,0%,0%);fill-opacity:1;stroke-width:1;stroke-linecap:butt;stroke-linejoin:miter;stroke:rgb(0%,0%,0%);stroke-opacity:1;stroke-miterlimit:10;\" d=\"M 61.15625 245.070312 C 61.15625 250.59375 56.675781 255.070312 51.15625 255.070312 C 45.632812 255.070312 41.15625 250.59375 41.15625 245.070312 C 41.15625 239.546875 45.632812 235.070312 51.15625 235.070312 C 56.675781 235.070312 61.15625 239.546875 61.15625 245.070312 \"/>\n",
       "<path style=\"fill-rule:nonzero;fill:rgb(100%,0%,0%);fill-opacity:1;stroke-width:1;stroke-linecap:butt;stroke-linejoin:miter;stroke:rgb(0%,0%,0%);stroke-opacity:1;stroke-miterlimit:10;\" d=\"M 170.140625 144.660156 C 170.140625 150.183594 165.664062 154.660156 160.140625 154.660156 C 154.621094 154.660156 150.140625 150.183594 150.140625 144.660156 C 150.140625 139.136719 154.621094 134.660156 160.140625 134.660156 C 165.664062 134.660156 170.140625 139.136719 170.140625 144.660156 \"/>\n",
       "<path style=\"fill-rule:nonzero;fill:rgb(100%,0%,0%);fill-opacity:1;stroke-width:1;stroke-linecap:butt;stroke-linejoin:miter;stroke:rgb(0%,0%,0%);stroke-opacity:1;stroke-miterlimit:10;\" d=\"M 119.964844 20 C 119.964844 25.523438 115.488281 30 109.964844 30 C 104.441406 30 99.964844 25.523438 99.964844 20 C 99.964844 14.476562 104.441406 10 109.964844 10 C 115.488281 10 119.964844 14.476562 119.964844 20 \"/>\n",
       "<path style=\"fill-rule:nonzero;fill:rgb(100%,0%,0%);fill-opacity:1;stroke-width:1;stroke-linecap:butt;stroke-linejoin:miter;stroke:rgb(0%,0%,0%);stroke-opacity:1;stroke-miterlimit:10;\" d=\"M 290 106.152344 C 290 111.675781 285.523438 116.152344 280 116.152344 C 274.476562 116.152344 270 111.675781 270 106.152344 C 270 100.628906 274.476562 96.152344 280 96.152344 C 285.523438 96.152344 290 100.628906 290 106.152344 \"/>\n",
       "<path style=\"fill-rule:nonzero;fill:rgb(100%,0%,0%);fill-opacity:1;stroke-width:1;stroke-linecap:butt;stroke-linejoin:miter;stroke:rgb(0%,0%,0%);stroke-opacity:1;stroke-miterlimit:10;\" d=\"M 30 124.269531 C 30 129.792969 25.523438 134.269531 20 134.269531 C 14.476562 134.269531 10 129.792969 10 124.269531 C 10 118.75 14.476562 114.269531 20 114.269531 C 25.523438 114.269531 30 118.75 30 124.269531 \"/>\n",
       "<path style=\"fill-rule:nonzero;fill:rgb(100%,0%,0%);fill-opacity:1;stroke-width:1;stroke-linecap:butt;stroke-linejoin:miter;stroke:rgb(0%,0%,0%);stroke-opacity:1;stroke-miterlimit:10;\" d=\"M 187.042969 280 C 187.042969 285.523438 182.566406 290 177.042969 290 C 171.523438 290 167.042969 285.523438 167.042969 280 C 167.042969 274.476562 171.523438 270 177.042969 270 C 182.566406 270 187.042969 274.476562 187.042969 280 \"/>\n",
       "<g style=\"fill:rgb(0%,0%,0%);fill-opacity:1;\">\n",
       "  <use xlink:href=\"#glyph0-1\" x=\"-10.742188\" y=\"193.984375\"/>\n",
       "  <use xlink:href=\"#glyph0-2\" x=\"-4.068359\" y=\"193.984375\"/>\n",
       "  <use xlink:href=\"#glyph0-3\" x=\"-0.734375\" y=\"193.984375\"/>\n",
       "  <use xlink:href=\"#glyph0-3\" x=\"5.939453\" y=\"193.984375\"/>\n",
       "  <use xlink:href=\"#glyph0-1\" x=\"12.613281\" y=\"193.984375\"/>\n",
       "  <use xlink:href=\"#glyph0-4\" x=\"19.287109\" y=\"193.984375\"/>\n",
       "  <use xlink:href=\"#glyph0-5\" x=\"25.960938\" y=\"193.984375\"/>\n",
       "  <use xlink:href=\"#glyph0-6\" x=\"32.634766\" y=\"193.984375\"/>\n",
       "  <use xlink:href=\"#glyph0-7\" x=\"39.308594\" y=\"193.984375\"/>\n",
       "  <use xlink:href=\"#glyph0-8\" x=\"45.982422\" y=\"193.984375\"/>\n",
       "  <use xlink:href=\"#glyph0-6\" x=\"52.65625\" y=\"193.984375\"/>\n",
       "  <use xlink:href=\"#glyph0-3\" x=\"59.330078\" y=\"193.984375\"/>\n",
       "  <use xlink:href=\"#glyph0-8\" x=\"66.003906\" y=\"193.984375\"/>\n",
       "  <use xlink:href=\"#glyph0-1\" x=\"72.677734\" y=\"193.984375\"/>\n",
       "  <use xlink:href=\"#glyph0-8\" x=\"79.351562\" y=\"193.984375\"/>\n",
       "  <use xlink:href=\"#glyph0-1\" x=\"86.025391\" y=\"193.984375\"/>\n",
       "  <use xlink:href=\"#glyph0-7\" x=\"92.699219\" y=\"193.984375\"/>\n",
       "  <use xlink:href=\"#glyph0-7\" x=\"99.373047\" y=\"193.984375\"/>\n",
       "</g>\n",
       "<g style=\"fill:rgb(0%,0%,0%);fill-opacity:1;\">\n",
       "  <use xlink:href=\"#glyph0-9\" x=\"-35.707031\" y=\"140.207031\"/>\n",
       "  <use xlink:href=\"#glyph0-2\" x=\"-29.033203\" y=\"140.207031\"/>\n",
       "  <use xlink:href=\"#glyph0-5\" x=\"-25.699219\" y=\"140.207031\"/>\n",
       "  <use xlink:href=\"#glyph0-7\" x=\"-19.025391\" y=\"140.207031\"/>\n",
       "  <use xlink:href=\"#glyph0-10\" x=\"-12.351562\" y=\"140.207031\"/>\n",
       "  <use xlink:href=\"#glyph0-3\" x=\"-5.677734\" y=\"140.207031\"/>\n",
       "  <use xlink:href=\"#glyph0-11\" x=\"0.996094\" y=\"140.207031\"/>\n",
       "  <use xlink:href=\"#glyph0-8\" x=\"7.669922\" y=\"140.207031\"/>\n",
       "  <use xlink:href=\"#glyph0-8\" x=\"14.34375\" y=\"140.207031\"/>\n",
       "  <use xlink:href=\"#glyph0-10\" x=\"21.017578\" y=\"140.207031\"/>\n",
       "  <use xlink:href=\"#glyph0-10\" x=\"27.691406\" y=\"140.207031\"/>\n",
       "  <use xlink:href=\"#glyph0-4\" x=\"34.365234\" y=\"140.207031\"/>\n",
       "  <use xlink:href=\"#glyph0-3\" x=\"41.039062\" y=\"140.207031\"/>\n",
       "  <use xlink:href=\"#glyph0-11\" x=\"47.712891\" y=\"140.207031\"/>\n",
       "  <use xlink:href=\"#glyph0-1\" x=\"54.386719\" y=\"140.207031\"/>\n",
       "  <use xlink:href=\"#glyph0-9\" x=\"61.060547\" y=\"140.207031\"/>\n",
       "  <use xlink:href=\"#glyph0-10\" x=\"67.734375\" y=\"140.207031\"/>\n",
       "  <use xlink:href=\"#glyph0-4\" x=\"74.408203\" y=\"140.207031\"/>\n",
       "</g>\n",
       "<g style=\"fill:rgb(0%,0%,0%);fill-opacity:1;\">\n",
       "  <use xlink:href=\"#glyph0-1\" x=\"113.722656\" y=\"261.65625\"/>\n",
       "  <use xlink:href=\"#glyph0-2\" x=\"120.396484\" y=\"261.65625\"/>\n",
       "  <use xlink:href=\"#glyph0-3\" x=\"123.730469\" y=\"261.65625\"/>\n",
       "  <use xlink:href=\"#glyph0-1\" x=\"130.404297\" y=\"261.65625\"/>\n",
       "  <use xlink:href=\"#glyph0-3\" x=\"137.078125\" y=\"261.65625\"/>\n",
       "  <use xlink:href=\"#glyph0-5\" x=\"143.751953\" y=\"261.65625\"/>\n",
       "  <use xlink:href=\"#glyph0-11\" x=\"150.425781\" y=\"261.65625\"/>\n",
       "  <use xlink:href=\"#glyph0-7\" x=\"157.099609\" y=\"261.65625\"/>\n",
       "  <use xlink:href=\"#glyph0-1\" x=\"163.773438\" y=\"261.65625\"/>\n",
       "  <use xlink:href=\"#glyph0-4\" x=\"170.447266\" y=\"261.65625\"/>\n",
       "  <use xlink:href=\"#glyph0-3\" x=\"177.121094\" y=\"261.65625\"/>\n",
       "  <use xlink:href=\"#glyph0-7\" x=\"183.794922\" y=\"261.65625\"/>\n",
       "  <use xlink:href=\"#glyph0-10\" x=\"190.46875\" y=\"261.65625\"/>\n",
       "  <use xlink:href=\"#glyph0-7\" x=\"197.142578\" y=\"261.65625\"/>\n",
       "  <use xlink:href=\"#glyph0-6\" x=\"203.816406\" y=\"261.65625\"/>\n",
       "  <use xlink:href=\"#glyph0-4\" x=\"210.490234\" y=\"261.65625\"/>\n",
       "  <use xlink:href=\"#glyph0-5\" x=\"217.164062\" y=\"261.65625\"/>\n",
       "  <use xlink:href=\"#glyph0-10\" x=\"223.837891\" y=\"261.65625\"/>\n",
       "</g>\n",
       "<g style=\"fill:rgb(0%,0%,0%);fill-opacity:1;\">\n",
       "  <use xlink:href=\"#glyph0-1\" x=\"103.75\" y=\"124.527344\"/>\n",
       "  <use xlink:href=\"#glyph0-2\" x=\"110.423828\" y=\"124.527344\"/>\n",
       "  <use xlink:href=\"#glyph0-4\" x=\"113.757812\" y=\"124.527344\"/>\n",
       "  <use xlink:href=\"#glyph0-7\" x=\"120.431641\" y=\"124.527344\"/>\n",
       "  <use xlink:href=\"#glyph0-5\" x=\"127.105469\" y=\"124.527344\"/>\n",
       "  <use xlink:href=\"#glyph0-5\" x=\"133.779297\" y=\"124.527344\"/>\n",
       "  <use xlink:href=\"#glyph0-9\" x=\"140.453125\" y=\"124.527344\"/>\n",
       "  <use xlink:href=\"#glyph0-9\" x=\"147.126953\" y=\"124.527344\"/>\n",
       "  <use xlink:href=\"#glyph0-4\" x=\"153.800781\" y=\"124.527344\"/>\n",
       "  <use xlink:href=\"#glyph0-11\" x=\"160.474609\" y=\"124.527344\"/>\n",
       "  <use xlink:href=\"#glyph0-11\" x=\"167.148438\" y=\"124.527344\"/>\n",
       "  <use xlink:href=\"#glyph0-3\" x=\"173.822266\" y=\"124.527344\"/>\n",
       "  <use xlink:href=\"#glyph0-4\" x=\"180.496094\" y=\"124.527344\"/>\n",
       "  <use xlink:href=\"#glyph0-6\" x=\"187.169922\" y=\"124.527344\"/>\n",
       "  <use xlink:href=\"#glyph0-11\" x=\"193.84375\" y=\"124.527344\"/>\n",
       "  <use xlink:href=\"#glyph0-11\" x=\"200.517578\" y=\"124.527344\"/>\n",
       "  <use xlink:href=\"#glyph0-4\" x=\"207.191406\" y=\"124.527344\"/>\n",
       "  <use xlink:href=\"#glyph0-6\" x=\"213.865234\" y=\"124.527344\"/>\n",
       "</g>\n",
       "<g style=\"fill:rgb(0%,0%,0%);fill-opacity:1;\">\n",
       "  <use xlink:href=\"#glyph0-1\" x=\"-26.144531\" y=\"146.464844\"/>\n",
       "  <use xlink:href=\"#glyph0-2\" x=\"-19.470703\" y=\"146.464844\"/>\n",
       "  <use xlink:href=\"#glyph0-3\" x=\"-16.136719\" y=\"146.464844\"/>\n",
       "  <use xlink:href=\"#glyph0-3\" x=\"-9.462891\" y=\"146.464844\"/>\n",
       "  <use xlink:href=\"#glyph0-1\" x=\"-2.789062\" y=\"146.464844\"/>\n",
       "  <use xlink:href=\"#glyph0-7\" x=\"3.884766\" y=\"146.464844\"/>\n",
       "  <use xlink:href=\"#glyph0-3\" x=\"10.558594\" y=\"146.464844\"/>\n",
       "  <use xlink:href=\"#glyph0-4\" x=\"17.232422\" y=\"146.464844\"/>\n",
       "  <use xlink:href=\"#glyph0-8\" x=\"23.90625\" y=\"146.464844\"/>\n",
       "  <use xlink:href=\"#glyph0-11\" x=\"30.580078\" y=\"146.464844\"/>\n",
       "  <use xlink:href=\"#glyph0-4\" x=\"37.253906\" y=\"146.464844\"/>\n",
       "  <use xlink:href=\"#glyph0-11\" x=\"43.927734\" y=\"146.464844\"/>\n",
       "  <use xlink:href=\"#glyph0-1\" x=\"50.601562\" y=\"146.464844\"/>\n",
       "  <use xlink:href=\"#glyph0-8\" x=\"57.275391\" y=\"146.464844\"/>\n",
       "  <use xlink:href=\"#glyph0-6\" x=\"63.949219\" y=\"146.464844\"/>\n",
       "  <use xlink:href=\"#glyph0-9\" x=\"70.623047\" y=\"146.464844\"/>\n",
       "  <use xlink:href=\"#glyph0-11\" x=\"77.296875\" y=\"146.464844\"/>\n",
       "  <use xlink:href=\"#glyph0-3\" x=\"83.970703\" y=\"146.464844\"/>\n",
       "</g>\n",
       "<g style=\"fill:rgb(0%,0%,0%);fill-opacity:1;\">\n",
       "  <use xlink:href=\"#glyph0-9\" x=\"193.832031\" y=\"62.195312\"/>\n",
       "  <use xlink:href=\"#glyph0-2\" x=\"200.505859\" y=\"62.195312\"/>\n",
       "  <use xlink:href=\"#glyph0-11\" x=\"203.839844\" y=\"62.195312\"/>\n",
       "  <use xlink:href=\"#glyph0-1\" x=\"210.513672\" y=\"62.195312\"/>\n",
       "  <use xlink:href=\"#glyph0-3\" x=\"217.1875\" y=\"62.195312\"/>\n",
       "  <use xlink:href=\"#glyph0-9\" x=\"223.861328\" y=\"62.195312\"/>\n",
       "  <use xlink:href=\"#glyph0-4\" x=\"230.535156\" y=\"62.195312\"/>\n",
       "  <use xlink:href=\"#glyph0-11\" x=\"237.208984\" y=\"62.195312\"/>\n",
       "  <use xlink:href=\"#glyph0-7\" x=\"243.882812\" y=\"62.195312\"/>\n",
       "  <use xlink:href=\"#glyph0-6\" x=\"250.556641\" y=\"62.195312\"/>\n",
       "  <use xlink:href=\"#glyph0-11\" x=\"257.230469\" y=\"62.195312\"/>\n",
       "  <use xlink:href=\"#glyph0-3\" x=\"263.904297\" y=\"62.195312\"/>\n",
       "  <use xlink:href=\"#glyph0-9\" x=\"270.578125\" y=\"62.195312\"/>\n",
       "  <use xlink:href=\"#glyph0-8\" x=\"277.251953\" y=\"62.195312\"/>\n",
       "  <use xlink:href=\"#glyph0-10\" x=\"283.925781\" y=\"62.195312\"/>\n",
       "  <use xlink:href=\"#glyph0-8\" x=\"290.599609\" y=\"62.195312\"/>\n",
       "  <use xlink:href=\"#glyph0-10\" x=\"297.273438\" y=\"62.195312\"/>\n",
       "  <use xlink:href=\"#glyph0-6\" x=\"303.947266\" y=\"62.195312\"/>\n",
       "</g>\n",
       "<g style=\"fill:rgb(0%,0%,0%);fill-opacity:1;\">\n",
       "  <use xlink:href=\"#glyph0-1\" x=\"64.605469\" y=\"79.800781\"/>\n",
       "  <use xlink:href=\"#glyph0-2\" x=\"71.279297\" y=\"79.800781\"/>\n",
       "  <use xlink:href=\"#glyph0-3\" x=\"74.613281\" y=\"79.800781\"/>\n",
       "  <use xlink:href=\"#glyph0-1\" x=\"81.287109\" y=\"79.800781\"/>\n",
       "  <use xlink:href=\"#glyph0-3\" x=\"87.960938\" y=\"79.800781\"/>\n",
       "  <use xlink:href=\"#glyph0-11\" x=\"94.634766\" y=\"79.800781\"/>\n",
       "  <use xlink:href=\"#glyph0-6\" x=\"101.308594\" y=\"79.800781\"/>\n",
       "  <use xlink:href=\"#glyph0-3\" x=\"107.982422\" y=\"79.800781\"/>\n",
       "  <use xlink:href=\"#glyph0-11\" x=\"114.65625\" y=\"79.800781\"/>\n",
       "  <use xlink:href=\"#glyph0-1\" x=\"121.330078\" y=\"79.800781\"/>\n",
       "  <use xlink:href=\"#glyph0-3\" x=\"128.003906\" y=\"79.800781\"/>\n",
       "  <use xlink:href=\"#glyph0-1\" x=\"134.677734\" y=\"79.800781\"/>\n",
       "  <use xlink:href=\"#glyph0-4\" x=\"141.351562\" y=\"79.800781\"/>\n",
       "  <use xlink:href=\"#glyph0-11\" x=\"148.025391\" y=\"79.800781\"/>\n",
       "  <use xlink:href=\"#glyph0-6\" x=\"154.699219\" y=\"79.800781\"/>\n",
       "  <use xlink:href=\"#glyph0-10\" x=\"161.373047\" y=\"79.800781\"/>\n",
       "  <use xlink:href=\"#glyph0-3\" x=\"168.046875\" y=\"79.800781\"/>\n",
       "  <use xlink:href=\"#glyph0-4\" x=\"174.720703\" y=\"79.800781\"/>\n",
       "</g>\n",
       "<g style=\"fill:rgb(0%,0%,0%);fill-opacity:1;\">\n",
       "  <use xlink:href=\"#glyph0-9\" x=\"227.375\" y=\"200.75\"/>\n",
       "  <use xlink:href=\"#glyph0-2\" x=\"234.048828\" y=\"200.75\"/>\n",
       "  <use xlink:href=\"#glyph0-11\" x=\"237.382812\" y=\"200.75\"/>\n",
       "  <use xlink:href=\"#glyph0-1\" x=\"244.056641\" y=\"200.75\"/>\n",
       "  <use xlink:href=\"#glyph0-3\" x=\"250.730469\" y=\"200.75\"/>\n",
       "  <use xlink:href=\"#glyph0-9\" x=\"257.404297\" y=\"200.75\"/>\n",
       "  <use xlink:href=\"#glyph0-4\" x=\"264.078125\" y=\"200.75\"/>\n",
       "  <use xlink:href=\"#glyph0-8\" x=\"270.751953\" y=\"200.75\"/>\n",
       "  <use xlink:href=\"#glyph0-4\" x=\"277.425781\" y=\"200.75\"/>\n",
       "  <use xlink:href=\"#glyph0-3\" x=\"284.099609\" y=\"200.75\"/>\n",
       "  <use xlink:href=\"#glyph0-7\" x=\"290.773438\" y=\"200.75\"/>\n",
       "  <use xlink:href=\"#glyph0-4\" x=\"297.447266\" y=\"200.75\"/>\n",
       "  <use xlink:href=\"#glyph0-5\" x=\"304.121094\" y=\"200.75\"/>\n",
       "  <use xlink:href=\"#glyph0-8\" x=\"310.794922\" y=\"200.75\"/>\n",
       "  <use xlink:href=\"#glyph0-8\" x=\"317.46875\" y=\"200.75\"/>\n",
       "  <use xlink:href=\"#glyph0-3\" x=\"324.142578\" y=\"200.75\"/>\n",
       "  <use xlink:href=\"#glyph0-4\" x=\"330.816406\" y=\"200.75\"/>\n",
       "  <use xlink:href=\"#glyph0-4\" x=\"337.490234\" y=\"200.75\"/>\n",
       "</g>\n",
       "<g style=\"fill:rgb(0%,0%,0%);fill-opacity:1;\">\n",
       "  <use xlink:href=\"#glyph0-9\" x=\"97.375\" y=\"201.257812\"/>\n",
       "  <use xlink:href=\"#glyph0-2\" x=\"104.048828\" y=\"201.257812\"/>\n",
       "  <use xlink:href=\"#glyph0-5\" x=\"107.382812\" y=\"201.257812\"/>\n",
       "  <use xlink:href=\"#glyph0-7\" x=\"114.056641\" y=\"201.257812\"/>\n",
       "  <use xlink:href=\"#glyph0-10\" x=\"120.730469\" y=\"201.257812\"/>\n",
       "  <use xlink:href=\"#glyph0-4\" x=\"127.404297\" y=\"201.257812\"/>\n",
       "  <use xlink:href=\"#glyph0-3\" x=\"134.078125\" y=\"201.257812\"/>\n",
       "  <use xlink:href=\"#glyph0-5\" x=\"140.751953\" y=\"201.257812\"/>\n",
       "  <use xlink:href=\"#glyph0-7\" x=\"147.425781\" y=\"201.257812\"/>\n",
       "  <use xlink:href=\"#glyph0-6\" x=\"154.099609\" y=\"201.257812\"/>\n",
       "  <use xlink:href=\"#glyph0-6\" x=\"160.773438\" y=\"201.257812\"/>\n",
       "  <use xlink:href=\"#glyph0-4\" x=\"167.447266\" y=\"201.257812\"/>\n",
       "  <use xlink:href=\"#glyph0-10\" x=\"174.121094\" y=\"201.257812\"/>\n",
       "  <use xlink:href=\"#glyph0-4\" x=\"180.794922\" y=\"201.257812\"/>\n",
       "  <use xlink:href=\"#glyph0-8\" x=\"187.46875\" y=\"201.257812\"/>\n",
       "  <use xlink:href=\"#glyph0-6\" x=\"194.142578\" y=\"201.257812\"/>\n",
       "  <use xlink:href=\"#glyph0-1\" x=\"200.816406\" y=\"201.257812\"/>\n",
       "  <use xlink:href=\"#glyph0-6\" x=\"207.490234\" y=\"201.257812\"/>\n",
       "</g>\n",
       "</g>\n",
       "</svg>\n"
      ],
      "text/plain": [
       "<igraph.drawing.cairo.plot.CairoPlot at 0x7f935ae60c10>"
      ]
     },
     "execution_count": 18,
     "metadata": {
      "image/svg+xml": {
       "isolated": true
      }
     },
     "output_type": "execute_result"
    }
   ],
   "source": [
    "nnodes = 6\n",
    "k = 3\n",
    "G = ig.Graph.K_Regular(nnodes,k)\n",
    "layout,weights = get_layout_weights(G)\n",
    "mean = sum(weights)/len(weights) \n",
    "var = sum([((x-mean)**2) for x in weights]) / len(weights)\n",
    "print(mean)\n",
    "print(var)\n",
    "ig.plot(G, layout=layout,edge_label=weights,bbox=(0, 0, 300, 300))"
   ]
  },
  {
   "cell_type": "markdown",
   "metadata": {},
   "source": [
    "The following tests examine the weights for random k regular graphs for non-trivial sizes (nnodes).  I wanted to get a sense for how the FR layout algorithm behaves asymptotically for these graphs:"
   ]
  },
  {
   "cell_type": "code",
   "execution_count": 12,
   "metadata": {},
   "outputs": [],
   "source": [
    "def kreg_weights(nnodes,k):\n",
    "    G = ig.Graph.K_Regular(nnodes,k)\n",
    "    layout,weights = get_layout_weights(G)\n",
    "    mean = sum(weights)/len(weights) \n",
    "    var = sum([((x-mean)**2) for x in weights]) / len(weights)\n",
    "    return mean,var,weights"
   ]
  },
  {
   "cell_type": "markdown",
   "metadata": {},
   "source": [
    "For $k=2$ and nnodes>4 the variance/mean of the weights increases with nnodes:"
   ]
  },
  {
   "cell_type": "code",
   "execution_count": 13,
   "metadata": {},
   "outputs": [
    {
     "name": "stdout",
     "output_type": "stream",
     "text": [
      "4 \t 1.144745156605653 \t 1.0869875591551389e-09 \t 9.495454537481736e-10\n",
      "8 \t 1.0295887213836756 \t 0.02714295864073358 \t 0.0263629137314712\n",
      "16 \t 1.0831497256332012 \t 0.013784235470288096 \t 0.012726066529934202\n",
      "128 \t 3.214687300696171 \t 0.3428006445438141 \t 0.10663576655483019\n",
      "1024 \t 0.6796977633125321 \t 0.06536059540300654 \t 0.09616126303619019\n",
      "4096 \t 0.7456841563374775 \t 0.10152809765348877 \t 0.13615429105019064\n"
     ]
    }
   ],
   "source": [
    "k=2\n",
    "for nnodes in [4,8,16,128,1024,4096]:\n",
    "    mean,var,weights = kreg_weights(nnodes,k)\n",
    "    print(nnodes,'\\t',mean,'\\t',var,'\\t',var/mean)"
   ]
  },
  {
   "cell_type": "markdown",
   "metadata": {},
   "source": [
    "This is not the case for $k>2$, and the asymptotic behavior is interesting:"
   ]
  },
  {
   "cell_type": "code",
   "execution_count": 14,
   "metadata": {},
   "outputs": [
    {
     "name": "stdout",
     "output_type": "stream",
     "text": [
      "4 \t 0.9715285507367093 \t 0.0277848716274729 \t 0.028599130315216836\n",
      "8 \t 1.2477851070801935 \t 0.10703451621419259 \t 0.08577960708687447\n",
      "16 \t 1.6274188190906058 \t 0.13444334796005133 \t 0.08261140057061504\n",
      "128 \t 3.2391909193104103 \t 0.8691489006174398 \t 0.26832283810009955\n",
      "1024 \t 1.0592766711984745 \t 0.15266527052708292 \t 0.1441221870338711\n",
      "4096 \t 1.1038071744496778 \t 0.1571816348075258 \t 0.14239954083093492\n"
     ]
    }
   ],
   "source": [
    "k=3\n",
    "for nnodes in [4,8,16,128,1024,4096]:\n",
    "    mean,var,weights = kreg_weights(nnodes,k)\n",
    "    print(nnodes,'\\t',mean,'\\t',var,'\\t',var/mean)"
   ]
  },
  {
   "cell_type": "markdown",
   "metadata": {},
   "source": [
    "I interpret these results as an inability for $k \\ge 2$ graphs to admit a UD layout which results in equal weights ($|\\textbf{r}_i-\\textbf{r}_j|$), although for $k=3$ it seems asymptotically that the weights have a lower overall variance/mean, and may be trending towards an approximate equal-weight UD embedding. Perhaps one can use these embeddings for large graphs in an approximate way. The constraint of \"equal weights\" helps me to understand how weighted problems might be handled, or how they could be used to fix the equal-weight UD embedding for random graphs!\n",
    "\n",
    "There are other interesting parameters to consider with regard to the FR algorithm such as:\n",
    "\n",
    "* initial layout\n",
    "* weights\n",
    "* iterations\n",
    "\n",
    "as well as other algorithms, some of these are discussed [Pasqal's Combinatorial Ref](https://arxiv.org/pdf/2207.13030.pdf). \n",
    "\n",
    "Overall this is a very interesting platform!  Looking forward to learning more about it."
   ]
  }
 ],
 "metadata": {
  "kernelspec": {
   "display_name": "Python 3",
   "language": "python",
   "name": "python3"
  },
  "language_info": {
   "codemirror_mode": {
    "name": "ipython",
    "version": 3
   },
   "file_extension": ".py",
   "mimetype": "text/x-python",
   "name": "python",
   "nbconvert_exporter": "python",
   "pygments_lexer": "ipython3",
   "version": "3.8.5"
  }
 },
 "nbformat": 4,
 "nbformat_minor": 4
}
